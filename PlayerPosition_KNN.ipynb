{
 "cells": [
  {
   "cell_type": "code",
   "execution_count": 1,
   "metadata": {
    "collapsed": true
   },
   "outputs": [],
   "source": [
    "import pandas as pd\n",
    "import numpy as np"
   ]
  },
  {
   "cell_type": "code",
   "execution_count": 2,
   "metadata": {
    "collapsed": true
   },
   "outputs": [],
   "source": [
    "#change the path of dataset\n",
    "fifa = pd.read_csv(\"C:/Users/My Pc/Downloads/players_position_dataset.csv\", encoding = \"ISO-8859-1\")"
   ]
  },
  {
   "cell_type": "code",
   "execution_count": 3,
   "metadata": {},
   "outputs": [
    {
     "name": "stderr",
     "output_type": "stream",
     "text": [
      "E:\\Anaconda\\lib\\site-packages\\ipykernel_launcher.py:2: SettingWithCopyWarning: \n",
      "A value is trying to be set on a copy of a slice from a DataFrame.\n",
      "Try using .loc[row_indexer,col_indexer] = value instead\n",
      "\n",
      "See the caveats in the documentation: http://pandas.pydata.org/pandas-docs/stable/indexing.html#indexing-view-versus-copy\n",
      "  \n",
      "E:\\Anaconda\\lib\\site-packages\\ipykernel_launcher.py:4: SettingWithCopyWarning: \n",
      "A value is trying to be set on a copy of a slice from a DataFrame.\n",
      "Try using .loc[row_indexer,col_indexer] = value instead\n",
      "\n",
      "See the caveats in the documentation: http://pandas.pydata.org/pandas-docs/stable/indexing.html#indexing-view-versus-copy\n",
      "  after removing the cwd from sys.path.\n",
      "E:\\Anaconda\\lib\\site-packages\\ipykernel_launcher.py:6: SettingWithCopyWarning: \n",
      "A value is trying to be set on a copy of a slice from a DataFrame.\n",
      "Try using .loc[row_indexer,col_indexer] = value instead\n",
      "\n",
      "See the caveats in the documentation: http://pandas.pydata.org/pandas-docs/stable/indexing.html#indexing-view-versus-copy\n",
      "  \n",
      "E:\\Anaconda\\lib\\site-packages\\ipykernel_launcher.py:8: SettingWithCopyWarning: \n",
      "A value is trying to be set on a copy of a slice from a DataFrame.\n",
      "Try using .loc[row_indexer,col_indexer] = value instead\n",
      "\n",
      "See the caveats in the documentation: http://pandas.pydata.org/pandas-docs/stable/indexing.html#indexing-view-versus-copy\n",
      "  \n"
     ]
    }
   ],
   "source": [
    "#replacing words with numbers for classifier processing\n",
    "\n",
    "defender = fifa[fifa['Position'] == 'Defender']\n",
    "defender['Position'] = 1\n",
    "midfielder = fifa[fifa['Position'] == 'Midfielder']\n",
    "midfielder['Position'] = 2\n",
    "forward = fifa[fifa['Position'] == 'Forward']\n",
    "forward['Position'] = 3\n",
    "goalkeeper = fifa[fifa['Position'] == 'GoalKeeper']\n",
    "goalkeeper['Position'] = 0"
   ]
  },
  {
   "cell_type": "code",
   "execution_count": 4,
   "metadata": {},
   "outputs": [
    {
     "data": {
      "text/html": [
       "<div>\n",
       "<style>\n",
       "    .dataframe thead tr:only-child th {\n",
       "        text-align: right;\n",
       "    }\n",
       "\n",
       "    .dataframe thead th {\n",
       "        text-align: left;\n",
       "    }\n",
       "\n",
       "    .dataframe tbody tr th {\n",
       "        vertical-align: top;\n",
       "    }\n",
       "</style>\n",
       "<table border=\"1\" class=\"dataframe\">\n",
       "  <thead>\n",
       "    <tr style=\"text-align: right;\">\n",
       "      <th></th>\n",
       "      <th>Unnamed: 0</th>\n",
       "      <th>Name</th>\n",
       "      <th>Age</th>\n",
       "      <th>Overall</th>\n",
       "      <th>Acceleration</th>\n",
       "      <th>Aggression</th>\n",
       "      <th>Agility</th>\n",
       "      <th>Balance</th>\n",
       "      <th>Ball.control</th>\n",
       "      <th>Composure</th>\n",
       "      <th>...</th>\n",
       "      <th>Shot.power</th>\n",
       "      <th>Sliding.tackle</th>\n",
       "      <th>Sprint.speed</th>\n",
       "      <th>Stamina</th>\n",
       "      <th>Standing.tackle</th>\n",
       "      <th>Strength</th>\n",
       "      <th>Vision</th>\n",
       "      <th>Volleys</th>\n",
       "      <th>Potential</th>\n",
       "      <th>Position</th>\n",
       "    </tr>\n",
       "  </thead>\n",
       "  <tbody>\n",
       "    <tr>\n",
       "      <th>10</th>\n",
       "      <td>11</td>\n",
       "      <td>Sergio Ramos</td>\n",
       "      <td>31</td>\n",
       "      <td>90</td>\n",
       "      <td>75</td>\n",
       "      <td>84</td>\n",
       "      <td>79</td>\n",
       "      <td>60</td>\n",
       "      <td>84</td>\n",
       "      <td>80</td>\n",
       "      <td>...</td>\n",
       "      <td>79</td>\n",
       "      <td>91</td>\n",
       "      <td>77</td>\n",
       "      <td>84</td>\n",
       "      <td>89</td>\n",
       "      <td>81</td>\n",
       "      <td>63</td>\n",
       "      <td>66</td>\n",
       "      <td>90</td>\n",
       "      <td>1</td>\n",
       "    </tr>\n",
       "    <tr>\n",
       "      <th>17</th>\n",
       "      <td>18</td>\n",
       "      <td>G. Chiellini</td>\n",
       "      <td>32</td>\n",
       "      <td>89</td>\n",
       "      <td>68</td>\n",
       "      <td>92</td>\n",
       "      <td>59</td>\n",
       "      <td>64</td>\n",
       "      <td>57</td>\n",
       "      <td>82</td>\n",
       "      <td>...</td>\n",
       "      <td>78</td>\n",
       "      <td>90</td>\n",
       "      <td>78</td>\n",
       "      <td>68</td>\n",
       "      <td>92</td>\n",
       "      <td>91</td>\n",
       "      <td>50</td>\n",
       "      <td>45</td>\n",
       "      <td>89</td>\n",
       "      <td>1</td>\n",
       "    </tr>\n",
       "    <tr>\n",
       "      <th>24</th>\n",
       "      <td>25</td>\n",
       "      <td>L. Bonucci</td>\n",
       "      <td>30</td>\n",
       "      <td>88</td>\n",
       "      <td>62</td>\n",
       "      <td>82</td>\n",
       "      <td>60</td>\n",
       "      <td>52</td>\n",
       "      <td>75</td>\n",
       "      <td>84</td>\n",
       "      <td>...</td>\n",
       "      <td>74</td>\n",
       "      <td>88</td>\n",
       "      <td>72</td>\n",
       "      <td>73</td>\n",
       "      <td>88</td>\n",
       "      <td>85</td>\n",
       "      <td>74</td>\n",
       "      <td>58</td>\n",
       "      <td>88</td>\n",
       "      <td>1</td>\n",
       "    </tr>\n",
       "    <tr>\n",
       "      <th>25</th>\n",
       "      <td>26</td>\n",
       "      <td>J. Boateng</td>\n",
       "      <td>28</td>\n",
       "      <td>88</td>\n",
       "      <td>72</td>\n",
       "      <td>82</td>\n",
       "      <td>58</td>\n",
       "      <td>53</td>\n",
       "      <td>71</td>\n",
       "      <td>86</td>\n",
       "      <td>...</td>\n",
       "      <td>79</td>\n",
       "      <td>90</td>\n",
       "      <td>78</td>\n",
       "      <td>74</td>\n",
       "      <td>91</td>\n",
       "      <td>91</td>\n",
       "      <td>76</td>\n",
       "      <td>53</td>\n",
       "      <td>88</td>\n",
       "      <td>1</td>\n",
       "    </tr>\n",
       "    <tr>\n",
       "      <th>26</th>\n",
       "      <td>27</td>\n",
       "      <td>D. Godin</td>\n",
       "      <td>31</td>\n",
       "      <td>88</td>\n",
       "      <td>62</td>\n",
       "      <td>86</td>\n",
       "      <td>63</td>\n",
       "      <td>58</td>\n",
       "      <td>76</td>\n",
       "      <td>82</td>\n",
       "      <td>...</td>\n",
       "      <td>67</td>\n",
       "      <td>89</td>\n",
       "      <td>67</td>\n",
       "      <td>67</td>\n",
       "      <td>86</td>\n",
       "      <td>80</td>\n",
       "      <td>52</td>\n",
       "      <td>47</td>\n",
       "      <td>88</td>\n",
       "      <td>1</td>\n",
       "    </tr>\n",
       "  </tbody>\n",
       "</table>\n",
       "<p>5 rows × 40 columns</p>\n",
       "</div>"
      ],
      "text/plain": [
       "    Unnamed: 0          Name  Age  Overall  Acceleration  Aggression  Agility  \\\n",
       "10          11  Sergio Ramos   31       90            75          84       79   \n",
       "17          18  G. Chiellini   32       89            68          92       59   \n",
       "24          25    L. Bonucci   30       88            62          82       60   \n",
       "25          26    J. Boateng   28       88            72          82       58   \n",
       "26          27      D. Godin   31       88            62          86       63   \n",
       "\n",
       "    Balance  Ball.control  Composure    ...     Shot.power  Sliding.tackle  \\\n",
       "10       60            84         80    ...             79              91   \n",
       "17       64            57         82    ...             78              90   \n",
       "24       52            75         84    ...             74              88   \n",
       "25       53            71         86    ...             79              90   \n",
       "26       58            76         82    ...             67              89   \n",
       "\n",
       "    Sprint.speed  Stamina  Standing.tackle  Strength  Vision  Volleys  \\\n",
       "10            77       84               89        81      63       66   \n",
       "17            78       68               92        91      50       45   \n",
       "24            72       73               88        85      74       58   \n",
       "25            78       74               91        91      76       53   \n",
       "26            67       67               86        80      52       47   \n",
       "\n",
       "    Potential  Position  \n",
       "10         90         1  \n",
       "17         89         1  \n",
       "24         88         1  \n",
       "25         88         1  \n",
       "26         88         1  \n",
       "\n",
       "[5 rows x 40 columns]"
      ]
     },
     "execution_count": 4,
     "metadata": {},
     "output_type": "execute_result"
    }
   ],
   "source": [
    "defender.head()"
   ]
  },
  {
   "cell_type": "code",
   "execution_count": 5,
   "metadata": {
    "collapsed": true
   },
   "outputs": [],
   "source": [
    "data = [defender,midfielder,goalkeeper,forward]\n",
    "result = pd.concat(data)\n",
    "result = result.sort_values('Overall', ascending=False)\n",
    "result = result.drop_duplicates('Name')\n"
   ]
  },
  {
   "cell_type": "code",
   "execution_count": 6,
   "metadata": {},
   "outputs": [
    {
     "data": {
      "text/html": [
       "<div>\n",
       "<style>\n",
       "    .dataframe thead tr:only-child th {\n",
       "        text-align: right;\n",
       "    }\n",
       "\n",
       "    .dataframe thead th {\n",
       "        text-align: left;\n",
       "    }\n",
       "\n",
       "    .dataframe tbody tr th {\n",
       "        vertical-align: top;\n",
       "    }\n",
       "</style>\n",
       "<table border=\"1\" class=\"dataframe\">\n",
       "  <thead>\n",
       "    <tr style=\"text-align: right;\">\n",
       "      <th></th>\n",
       "      <th>Unnamed: 0</th>\n",
       "      <th>Name</th>\n",
       "      <th>Age</th>\n",
       "      <th>Overall</th>\n",
       "      <th>Acceleration</th>\n",
       "      <th>Aggression</th>\n",
       "      <th>Agility</th>\n",
       "      <th>Balance</th>\n",
       "      <th>Ball.control</th>\n",
       "      <th>Composure</th>\n",
       "      <th>...</th>\n",
       "      <th>Shot.power</th>\n",
       "      <th>Sliding.tackle</th>\n",
       "      <th>Sprint.speed</th>\n",
       "      <th>Stamina</th>\n",
       "      <th>Standing.tackle</th>\n",
       "      <th>Strength</th>\n",
       "      <th>Vision</th>\n",
       "      <th>Volleys</th>\n",
       "      <th>Potential</th>\n",
       "      <th>Position</th>\n",
       "    </tr>\n",
       "  </thead>\n",
       "  <tbody>\n",
       "    <tr>\n",
       "      <th>0</th>\n",
       "      <td>1</td>\n",
       "      <td>Cristiano Ronaldo</td>\n",
       "      <td>32</td>\n",
       "      <td>94</td>\n",
       "      <td>89</td>\n",
       "      <td>63</td>\n",
       "      <td>89</td>\n",
       "      <td>63</td>\n",
       "      <td>93</td>\n",
       "      <td>95</td>\n",
       "      <td>...</td>\n",
       "      <td>94</td>\n",
       "      <td>23</td>\n",
       "      <td>91</td>\n",
       "      <td>92</td>\n",
       "      <td>31</td>\n",
       "      <td>80</td>\n",
       "      <td>85</td>\n",
       "      <td>88</td>\n",
       "      <td>94</td>\n",
       "      <td>3</td>\n",
       "    </tr>\n",
       "    <tr>\n",
       "      <th>1</th>\n",
       "      <td>2</td>\n",
       "      <td>L. Messi</td>\n",
       "      <td>30</td>\n",
       "      <td>93</td>\n",
       "      <td>92</td>\n",
       "      <td>48</td>\n",
       "      <td>90</td>\n",
       "      <td>95</td>\n",
       "      <td>95</td>\n",
       "      <td>96</td>\n",
       "      <td>...</td>\n",
       "      <td>85</td>\n",
       "      <td>26</td>\n",
       "      <td>87</td>\n",
       "      <td>73</td>\n",
       "      <td>28</td>\n",
       "      <td>59</td>\n",
       "      <td>90</td>\n",
       "      <td>85</td>\n",
       "      <td>93</td>\n",
       "      <td>3</td>\n",
       "    </tr>\n",
       "    <tr>\n",
       "      <th>4</th>\n",
       "      <td>5</td>\n",
       "      <td>M. Neuer</td>\n",
       "      <td>31</td>\n",
       "      <td>92</td>\n",
       "      <td>58</td>\n",
       "      <td>29</td>\n",
       "      <td>52</td>\n",
       "      <td>35</td>\n",
       "      <td>48</td>\n",
       "      <td>70</td>\n",
       "      <td>...</td>\n",
       "      <td>25</td>\n",
       "      <td>11</td>\n",
       "      <td>61</td>\n",
       "      <td>44</td>\n",
       "      <td>10</td>\n",
       "      <td>83</td>\n",
       "      <td>70</td>\n",
       "      <td>11</td>\n",
       "      <td>92</td>\n",
       "      <td>0</td>\n",
       "    </tr>\n",
       "    <tr>\n",
       "      <th>2</th>\n",
       "      <td>3</td>\n",
       "      <td>Neymar</td>\n",
       "      <td>25</td>\n",
       "      <td>92</td>\n",
       "      <td>94</td>\n",
       "      <td>56</td>\n",
       "      <td>96</td>\n",
       "      <td>82</td>\n",
       "      <td>95</td>\n",
       "      <td>92</td>\n",
       "      <td>...</td>\n",
       "      <td>80</td>\n",
       "      <td>33</td>\n",
       "      <td>90</td>\n",
       "      <td>78</td>\n",
       "      <td>24</td>\n",
       "      <td>53</td>\n",
       "      <td>80</td>\n",
       "      <td>83</td>\n",
       "      <td>94</td>\n",
       "      <td>3</td>\n",
       "    </tr>\n",
       "    <tr>\n",
       "      <th>3</th>\n",
       "      <td>4</td>\n",
       "      <td>L. Suarez</td>\n",
       "      <td>30</td>\n",
       "      <td>92</td>\n",
       "      <td>88</td>\n",
       "      <td>78</td>\n",
       "      <td>86</td>\n",
       "      <td>60</td>\n",
       "      <td>91</td>\n",
       "      <td>83</td>\n",
       "      <td>...</td>\n",
       "      <td>87</td>\n",
       "      <td>38</td>\n",
       "      <td>77</td>\n",
       "      <td>89</td>\n",
       "      <td>45</td>\n",
       "      <td>80</td>\n",
       "      <td>84</td>\n",
       "      <td>88</td>\n",
       "      <td>92</td>\n",
       "      <td>3</td>\n",
       "    </tr>\n",
       "  </tbody>\n",
       "</table>\n",
       "<p>5 rows × 40 columns</p>\n",
       "</div>"
      ],
      "text/plain": [
       "   Unnamed: 0               Name  Age  Overall  Acceleration  Aggression  \\\n",
       "0           1  Cristiano Ronaldo   32       94            89          63   \n",
       "1           2           L. Messi   30       93            92          48   \n",
       "4           5           M. Neuer   31       92            58          29   \n",
       "2           3             Neymar   25       92            94          56   \n",
       "3           4          L. Suarez   30       92            88          78   \n",
       "\n",
       "   Agility  Balance  Ball.control  Composure    ...     Shot.power  \\\n",
       "0       89       63            93         95    ...             94   \n",
       "1       90       95            95         96    ...             85   \n",
       "4       52       35            48         70    ...             25   \n",
       "2       96       82            95         92    ...             80   \n",
       "3       86       60            91         83    ...             87   \n",
       "\n",
       "   Sliding.tackle  Sprint.speed  Stamina  Standing.tackle  Strength  Vision  \\\n",
       "0              23            91       92               31        80      85   \n",
       "1              26            87       73               28        59      90   \n",
       "4              11            61       44               10        83      70   \n",
       "2              33            90       78               24        53      80   \n",
       "3              38            77       89               45        80      84   \n",
       "\n",
       "   Volleys  Potential  Position  \n",
       "0       88         94         3  \n",
       "1       85         93         3  \n",
       "4       11         92         0  \n",
       "2       83         94         3  \n",
       "3       88         92         3  \n",
       "\n",
       "[5 rows x 40 columns]"
      ]
     },
     "execution_count": 6,
     "metadata": {},
     "output_type": "execute_result"
    }
   ],
   "source": [
    "result.head()"
   ]
  },
  {
   "cell_type": "code",
   "execution_count": 7,
   "metadata": {
    "collapsed": true
   },
   "outputs": [],
   "source": [
    "#specify the attributes u want here using the column indexs\n",
    "data = fifa.iloc[:, 4:38]\n",
    "labels = fifa[\"Position\"]"
   ]
  },
  {
   "cell_type": "code",
   "execution_count": 8,
   "metadata": {},
   "outputs": [
    {
     "name": "stdout",
     "output_type": "stream",
     "text": [
      "0.837442075996\n",
      "             precision    recall  f1-score   support\n",
      "\n",
      " goalkeeper       0.86      0.88      0.87      1698\n",
      "   defender       0.80      0.73      0.76       959\n",
      " midfielder       1.00      1.00      1.00       620\n",
      "    forward       0.79      0.81      0.80      2118\n",
      "\n",
      "avg / total       0.84      0.84      0.84      5395\n",
      "\n"
     ]
    }
   ],
   "source": [
    "from sklearn.model_selection import train_test_split\n",
    "from sklearn.metrics import classification_report, accuracy_score, confusion_matrix\n",
    "from sklearn.ensemble import RandomForestClassifier\n",
    "\n",
    "features_train, features_test, labels_train, labels_test = train_test_split(data, labels, test_size=0.3, random_state=42)\n",
    "\n",
    "rnd_clf = RandomForestClassifier(n_estimators = 500,criterion = 'entropy', min_samples_split = 2,min_samples_leaf = 5, max_depth=20)\n",
    "rnd_clf.fit(features_train, labels_train)\n",
    "pred = rnd_clf.predict(features_test)\n",
    "print(accuracy_score(labels_test,pred))\n",
    "target_names = ['goalkeeper', 'defender', 'midfielder','forward']\n",
    "print(classification_report(labels_test,pred, target_names = target_names))"
   ]
  },
  {
   "cell_type": "code",
   "execution_count": 9,
   "metadata": {},
   "outputs": [
    {
     "name": "stdout",
     "output_type": "stream",
     "text": [
      "0.8328081557\n",
      "             precision    recall  f1-score   support\n",
      "\n",
      "   Defender       0.87      0.86      0.87      1698\n",
      "    Forward       0.79      0.72      0.75       959\n",
      " GoalKeeper       1.00      1.00      1.00       620\n",
      " Midfielder       0.78      0.81      0.79      2118\n",
      "\n",
      "avg / total       0.83      0.83      0.83      5395\n",
      "\n"
     ]
    }
   ],
   "source": [
    "from sklearn.neighbors import KNeighborsClassifier\n",
    "\n",
    "knn_clf=KNeighborsClassifier(n_neighbors=30, weights ='distance')\n",
    "knn_clf.fit(features_train, labels_train)\n",
    "pred = knn_clf.predict(features_test)\n",
    "print(accuracy_score(labels_test,pred))\n",
    "print(classification_report(labels_test,pred))"
   ]
  },
  {
   "cell_type": "code",
   "execution_count": 10,
   "metadata": {},
   "outputs": [
    {
     "data": {
      "text/plain": [
       "KNeighborsClassifier(algorithm='auto', leaf_size=30, metric='minkowski',\n",
       "           metric_params=None, n_jobs=1, n_neighbors=30, p=2,\n",
       "           weights='distance')"
      ]
     },
     "execution_count": 10,
     "metadata": {},
     "output_type": "execute_result"
    }
   ],
   "source": [
    "knn_clf_2=KNeighborsClassifier(n_neighbors=30, weights ='distance')\n",
    "knn_clf_2.fit(data, labels)"
   ]
  },
  {
   "cell_type": "code",
   "execution_count": 18,
   "metadata": {},
   "outputs": [
    {
     "data": {
      "text/html": [
       "<table><tr><td><b>P. Pogba</b></td><td><b>24</b></td><td><b>87</b></td></tr></table>"
      ],
      "text/plain": [
       "<IPython.core.display.HTML object>"
      ]
     },
     "metadata": {},
     "output_type": "display_data"
    },
    {
     "name": "stdout",
     "output_type": "stream",
     "text": [
      "--------------Neighbors--------------\n"
     ]
    },
    {
     "data": {
      "text/html": [
       "<table><tr><td><b>M. Hamsik</b></td><td><b>29</b></td><td><b>87</b></td></tr></table>"
      ],
      "text/plain": [
       "<IPython.core.display.HTML object>"
      ]
     },
     "metadata": {},
     "output_type": "display_data"
    },
    {
     "data": {
      "text/html": [
       "<table><tr><td><b>A. Witsel</b></td><td><b>28</b></td><td><b>82</b></td></tr></table>"
      ],
      "text/plain": [
       "<IPython.core.display.HTML object>"
      ]
     },
     "metadata": {},
     "output_type": "display_data"
    },
    {
     "data": {
      "text/html": [
       "<table><tr><td><b>K. Boateng</b></td><td><b>30</b></td><td><b>80</b></td></tr></table>"
      ],
      "text/plain": [
       "<IPython.core.display.HTML object>"
      ]
     },
     "metadata": {},
     "output_type": "display_data"
    },
    {
     "data": {
      "text/html": [
       "<table><tr><td><b>C. Marchisio</b></td><td><b>31</b></td><td><b>85</b></td></tr></table>"
      ],
      "text/plain": [
       "<IPython.core.display.HTML object>"
      ]
     },
     "metadata": {},
     "output_type": "display_data"
    },
    {
     "data": {
      "text/html": [
       "<table><tr><td><b>G. Bonaventura</b></td><td><b>27</b></td><td><b>83</b></td></tr></table>"
      ],
      "text/plain": [
       "<IPython.core.display.HTML object>"
      ]
     },
     "metadata": {},
     "output_type": "display_data"
    },
    {
     "data": {
      "text/html": [
       "<table><tr><td><b>M. Sissoko</b></td><td><b>27</b></td><td><b>77</b></td></tr></table>"
      ],
      "text/plain": [
       "<IPython.core.display.HTML object>"
      ]
     },
     "metadata": {},
     "output_type": "display_data"
    },
    {
     "data": {
      "text/html": [
       "<table><tr><td><b>A. Ramsey</b></td><td><b>26</b></td><td><b>82</b></td></tr></table>"
      ],
      "text/plain": [
       "<IPython.core.display.HTML object>"
      ]
     },
     "metadata": {},
     "output_type": "display_data"
    },
    {
     "data": {
      "text/html": [
       "<table><tr><td><b>J. Milner</b></td><td><b>31</b></td><td><b>80</b></td></tr></table>"
      ],
      "text/plain": [
       "<IPython.core.display.HTML object>"
      ]
     },
     "metadata": {},
     "output_type": "display_data"
    },
    {
     "data": {
      "text/html": [
       "<table><tr><td><b>J. Henderson</b></td><td><b>27</b></td><td><b>82</b></td></tr></table>"
      ],
      "text/plain": [
       "<IPython.core.display.HTML object>"
      ]
     },
     "metadata": {},
     "output_type": "display_data"
    },
    {
     "data": {
      "text/html": [
       "<table><tr><td><b>M. Sanson</b></td><td><b>22</b></td><td><b>81</b></td></tr></table>"
      ],
      "text/plain": [
       "<IPython.core.display.HTML object>"
      ]
     },
     "metadata": {},
     "output_type": "display_data"
    },
    {
     "data": {
      "text/html": [
       "<table><tr><td><b>L. Stindl</b></td><td><b>28</b></td><td><b>82</b></td></tr></table>"
      ],
      "text/plain": [
       "<IPython.core.display.HTML object>"
      ]
     },
     "metadata": {},
     "output_type": "display_data"
    },
    {
     "data": {
      "text/html": [
       "<table><tr><td><b>G. Wijnaldum</b></td><td><b>26</b></td><td><b>82</b></td></tr></table>"
      ],
      "text/plain": [
       "<IPython.core.display.HTML object>"
      ]
     },
     "metadata": {},
     "output_type": "display_data"
    },
    {
     "data": {
      "text/html": [
       "<table><tr><td><b>C. Erkin</b></td><td><b>28</b></td><td><b>76</b></td></tr></table>"
      ],
      "text/plain": [
       "<IPython.core.display.HTML object>"
      ]
     },
     "metadata": {},
     "output_type": "display_data"
    },
    {
     "data": {
      "text/html": [
       "<table><tr><td><b>J. Kucka</b></td><td><b>30</b></td><td><b>79</b></td></tr></table>"
      ],
      "text/plain": [
       "<IPython.core.display.HTML object>"
      ]
     },
     "metadata": {},
     "output_type": "display_data"
    }
   ],
   "source": [
    "from IPython.display import HTML, display\n",
    "\n",
    "player_index = 35   # give id of the player you want to search ...the number is from dataset write n-1\n",
    "\n",
    "table = \"<table><tr><td><b>{}</b></td><td><b>{}</b></td><td><b>{}</b></td></tr></table>\"\n",
    "\n",
    "neighbors = knn_clf_2.kneighbors([data.iloc[player_index,:]],n_neighbors=15)[1]\n",
    "neighbors = np.reshape(neighbors,(neighbors.shape[1]))\n",
    "display(HTML(table.format(fifa.iloc[player_index,1],\n",
    "                          fifa.iloc[player_index,2],fifa.iloc[player_index,3])))\n",
    "print(\"--------------Neighbors--------------\")\n",
    "\n",
    "i = 1\n",
    "while i<len(neighbors):\n",
    "    display(HTML(table.format(fifa.iloc[neighbors[i],1],\n",
    "                              fifa.iloc[neighbors[i],2],fifa.iloc[neighbors[i],3])))\n",
    "    i+=1"
   ]
  }
 ],
 "metadata": {
  "kernelspec": {
   "display_name": "Python 3",
   "language": "python",
   "name": "python3"
  },
  "language_info": {
   "codemirror_mode": {
    "name": "ipython",
    "version": 3
   },
   "file_extension": ".py",
   "mimetype": "text/x-python",
   "name": "python",
   "nbconvert_exporter": "python",
   "pygments_lexer": "ipython3",
   "version": "3.6.3"
  }
 },
 "nbformat": 4,
 "nbformat_minor": 2
}
